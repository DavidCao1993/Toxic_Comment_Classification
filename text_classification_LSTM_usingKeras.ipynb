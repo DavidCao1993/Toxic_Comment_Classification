{
 "cells": [
  {
   "cell_type": "code",
   "execution_count": 50,
   "metadata": {},
   "outputs": [],
   "source": [
    "%matplotlib inline\n",
    "\n",
    "import sys, os, re, csv, codecs, numpy as np, pandas as pd\n",
    "import matplotlib.pyplot as plt\n",
    "from keras.preprocessing.text import Tokenizer\n",
    "from keras.preprocessing.sequence import pad_sequences\n",
    "from keras.layers import Dense, Input, LSTM, Embedding, Dropout, Activation, Conv1D\n",
    "from keras.layers import Bidirectional, GlobalMaxPooling1D, MaxPooling1D, SpatialDropout1D, BatchNormalization\n",
    "from keras.models import Model\n",
    "from keras import initializers, regularizers, constraints, optimizers, layers\n",
    "from tqdm import tqdm\n",
    "import gc"
   ]
  },
  {
   "cell_type": "markdown",
   "metadata": {},
   "source": [
    "## Import Data"
   ]
  },
  {
   "cell_type": "code",
   "execution_count": 2,
   "metadata": {
    "collapsed": true
   },
   "outputs": [],
   "source": [
    "dtypes = {\n",
    "    'comment_text': np.unicode,\n",
    "    \"toxic\": np.float32,\n",
    "    \"severe_toxic\": np.float32,\n",
    "    \"obscene\": np.float32,\n",
    "    \"threat\": np.float32,\n",
    "    \"insult\": np.float32,\n",
    "    \"identity_hate\": np.float32\n",
    "}\n",
    "train = pd.read_csv(\"data/train.csv\", dtype=dtypes) #, encoding='utf-8'\n",
    "test = pd.read_csv(\"data/test.csv\", dtype=dtypes) # , encoding='utf-8'\n",
    "\n",
    "train.comment_text.fillna(\"unknown\", inplace=True)\n",
    "test.comment_text.fillna(\"unknown\", inplace=True)"
   ]
  },
  {
   "cell_type": "code",
   "execution_count": 3,
   "metadata": {
    "collapsed": true
   },
   "outputs": [],
   "source": [
    "classes = [\"toxic\", \"severe_toxic\", \"obscene\", \"threat\", \"insult\",\n",
    "           \"identity_hate\"]\n",
    "train_data = train['comment_text']  \n",
    "labels = train[classes].values\n",
    "list_sentences_train = train[\"comment_text\"]\n",
    "list_sentences_test = test[\"comment_text\"]"
   ]
  },
  {
   "cell_type": "markdown",
   "metadata": {},
   "source": [
    " ## This is used to represent the corpus in the format of a  dictionary where every index represent a unique word and it is arranged from the most frequent to the least frequent"
   ]
  },
  {
   "cell_type": "code",
   "execution_count": 4,
   "metadata": {},
   "outputs": [
    {
     "data": {
      "text/plain": [
       "str"
      ]
     },
     "execution_count": 4,
     "metadata": {},
     "output_type": "execute_result"
    }
   ],
   "source": [
    "type(list(list_sentences_train)[1])"
   ]
  },
  {
   "cell_type": "code",
   "execution_count": 138,
   "metadata": {
    "collapsed": true
   },
   "outputs": [],
   "source": [
    "max_features = 20000 # Number of unique words in the corpus, needs optimization\n",
    "tokenizer = Tokenizer(num_words=max_features)\n",
    "tokenizer.fit_on_texts(list(list_sentences_train))\n",
    "tokenized_train = tokenizer.texts_to_sequences(list_sentences_train)\n",
    "tokenized_test = tokenizer.texts_to_sequences(list_sentences_test)"
   ]
  },
  {
   "cell_type": "code",
   "execution_count": 139,
   "metadata": {},
   "outputs": [
    {
     "name": "stdout",
     "output_type": "stream",
     "text": [
      "Found 153397 unique tokens.\n"
     ]
    }
   ],
   "source": [
    "word_index = tokenizer.word_index\n",
    "print('Found %d unique tokens.' % len(word_index))\n",
    "word_count = tokenizer.word_counts\n",
    "# print('Top 5 Frequent Words count. ' % word_count[5])"
   ]
  },
  {
   "cell_type": "code",
   "execution_count": 140,
   "metadata": {},
   "outputs": [
    {
     "name": "stdout",
     "output_type": "stream",
     "text": [
      "[[813, 4855, 200, 6773, 40, 7, 162, 8, 393, 234, 19, 20, 350, 14245]]\n"
     ]
    }
   ],
   "source": [
    "print(tokenized_train[:1]) # Take a lot at the NN input"
   ]
  },
  {
   "cell_type": "markdown",
   "metadata": {},
   "source": [
    "## This is done to normalize the length of the text sequences to the maxlen value\n",
    "\n",
    "    This is called [Padding], it includes shortenning the long sentences and longing the short sentences by zeros so they equal the maxlen"
   ]
  },
  {
   "cell_type": "code",
   "execution_count": 141,
   "metadata": {
    "collapsed": true
   },
   "outputs": [],
   "source": [
    "maxlen = 200 # needs optimization\n",
    "X = pad_sequences(tokenized_train, maxlen=maxlen)\n",
    "X_t =pad_sequences(tokenized_test, maxlen=maxlen)"
   ]
  },
  {
   "cell_type": "code",
   "execution_count": 142,
   "metadata": {},
   "outputs": [
    {
     "data": {
      "image/png": "[encoded data removed]",
      "text/plain": [
       "<matplotlib.figure.Figure at 0x7f9eba9a8590>"
      ]
     },
     "metadata": {},
     "output_type": "display_data"
    }
   ],
   "source": [
    "# Plot a histogram between the number of comments and the length of the comment\n",
    "totalNumWords = [len(comment) for comment in tokenized_train]\n",
    "plt.hist(totalNumWords) #, bins=np.range(0,500,10)\n",
    "plt.show()"
   ]
  },
  {
   "cell_type": "markdown",
   "metadata": {},
   "source": [
    "## Let's Start building the Model"
   ]
  },
  {
   "cell_type": "markdown",
   "metadata": {},
   "source": [
    "<img src=\"images/txJomEa.png\" >"
   ]
  },
  {
   "cell_type": "code",
   "execution_count": 143,
   "metadata": {
    "collapsed": true
   },
   "outputs": [],
   "source": [
    "# input is a list of encoded sentences, each sentence with a maxlen=200\n",
    "input_layer = Input(shape=(maxlen, )) "
   ]
  },
  {
   "cell_type": "code",
   "execution_count": 22,
   "metadata": {},
   "outputs": [
    {
     "name": "stderr",
     "output_type": "stream",
     "text": [
      "2196017it [01:53, 19297.09it/s]"
     ]
    },
    {
     "name": "stdout",
     "output_type": "stream",
     "text": [
      "Found 2196016 word vectors.\n"
     ]
    },
    {
     "name": "stderr",
     "output_type": "stream",
     "text": [
      "\n"
     ]
    }
   ],
   "source": [
    "# Prepaing the Embedding Layer using Glove Word Vectors\n",
    "embedding_index_glove = {}\n",
    "f = open(\"../Sentiment_Model_Template/glove.840B.300d.txt\")\n",
    "for line in tqdm(f):\n",
    "    values = line.split()\n",
    "    word = values[0]\n",
    "    coefs = np.asarray(values[1:], dtype='float32')\n",
    "    embedding_index_glove[word] = coefs\n",
    "f.close()\n",
    "print('Found %s word vectors.' % len(embedding_index_glove))"
   ]
  },
  {
   "cell_type": "code",
   "execution_count": 42,
   "metadata": {
    "collapsed": true
   },
   "outputs": [],
   "source": [
    "def plot_loss_curve(history):\n",
    "    \"\"\"A function to plot losses and acuracies of a fitted\n",
    "    keras model\"\"\"\n",
    "    # summarize history for accuracy\n",
    "    plt.plot(history.history['acc'])\n",
    "    plt.plot(history.history['val_acc'])\n",
    "    plt.title('model accuracy')\n",
    "    plt.ylabel('accuracy')\n",
    "    plt.xlabel('epoch')\n",
    "    plt.legend(['train', 'valid'], loc='upper left')\n",
    "    plt.show()\n",
    "    # summarize history for loss\n",
    "    plt.plot(history.history['loss'])\n",
    "    plt.plot(history.history['val_loss'])\n",
    "    plt.title('model loss')\n",
    "    plt.ylabel('loss')\n",
    "    plt.xlabel('epoch')\n",
    "    plt.legend(['train', 'valid'], loc='upper left')\n",
    "    plt.show()"
   ]
  },
  {
   "cell_type": "code",
   "execution_count": 23,
   "metadata": {},
   "outputs": [
    {
     "data": {
      "text/plain": [
       "0"
      ]
     },
     "execution_count": 23,
     "metadata": {},
     "output_type": "execute_result"
    }
   ],
   "source": [
    "gc.collect()"
   ]
  },
  {
   "cell_type": "code",
   "execution_count": 48,
   "metadata": {},
   "outputs": [
    {
     "data": {
      "text/plain": [
       "95851"
      ]
     },
     "execution_count": 48,
     "metadata": {},
     "output_type": "execute_result"
    }
   ],
   "source": [
    "train_data.shape[0]"
   ]
  },
  {
   "cell_type": "code",
   "execution_count": 145,
   "metadata": {
    "collapsed": true
   },
   "outputs": [],
   "source": [
    "# split the data into a training set and a validation set\n",
    "VALIDATION_SPLIT = 0.2\n",
    "\n",
    "indices = np.arange(X.shape[0])\n",
    "np.random.shuffle(indices)\n",
    "X = X[indices]\n",
    "labels = labels[indices]\n",
    "num_validation_samples = int(VALIDATION_SPLIT * X.shape[0])\n",
    "\n",
    "x_train = X[:-num_validation_samples]\n",
    "y_train = labels[:-num_validation_samples]\n",
    "x_val = X[-num_validation_samples:]\n",
    "y_val = labels[-num_validation_samples:]\n"
   ]
  },
  {
   "cell_type": "code",
   "execution_count": 146,
   "metadata": {},
   "outputs": [
    {
     "data": {
      "text/plain": [
       "(95851, 6)"
      ]
     },
     "execution_count": 146,
     "metadata": {},
     "output_type": "execute_result"
    }
   ],
   "source": [
    "labels.shape"
   ]
  },
  {
   "cell_type": "code",
   "execution_count": 147,
   "metadata": {},
   "outputs": [
    {
     "name": "stdout",
     "output_type": "stream",
     "text": [
      "(76681, 200)\n",
      "(19170, 200)\n",
      "(76681, 6)\n",
      "(19170, 6)\n"
     ]
    }
   ],
   "source": [
    "print (x_train.shape)\n",
    "print (x_val.shape)\n",
    "print (y_train.shape)\n",
    "print (y_val.shape)"
   ]
  },
  {
   "cell_type": "code",
   "execution_count": 148,
   "metadata": {
    "collapsed": true
   },
   "outputs": [],
   "source": [
    "# prepare embedding matrix\n",
    "EMBEDDING_DIM = 300\n",
    "num_words = min(max_features, len(word_index) + 1)\n",
    "embedding_matrix = np.zeros((num_words, EMBEDDING_DIM))\n",
    "for word, i in word_index.items():\n",
    "    if i >= max_features:\n",
    "        continue\n",
    "    embedding_vector = embedding_index_glove.get(word)\n",
    "    if embedding_vector is not None:\n",
    "        # words not found in embedding index will be all-zeros.\n",
    "        embedding_matrix[i] = embedding_vector"
   ]
  },
  {
   "cell_type": "code",
   "execution_count": 149,
   "metadata": {
    "collapsed": true
   },
   "outputs": [],
   "source": [
    "MAX_SEQUENCE_LENGTH = maxlen\n",
    "embedding_layer = Embedding(num_words,\n",
    "                            EMBEDDING_DIM,\n",
    "                            weights=[embedding_matrix],\n",
    "                            input_length=MAX_SEQUENCE_LENGTH,\n",
    "                            trainable=False)(input_layer)\n",
    "\n",
    "# embedding_layer = Embedding(num_words,\n",
    "#                             EMBEDDING_DIM,\n",
    "#                             input_length=MAX_SEQUENCE_LENGTH,\n",
    "#                             trainable=False)(input_layer)\n"
   ]
  },
  {
   "cell_type": "code",
   "execution_count": 150,
   "metadata": {
    "collapsed": true
   },
   "outputs": [],
   "source": [
    "x = LSTM(units=60, return_sequences=True, name='lstm_layer')(embedding_layer)"
   ]
  },
  {
   "cell_type": "code",
   "execution_count": 151,
   "metadata": {
    "collapsed": true
   },
   "outputs": [],
   "source": [
    "x = GlobalMaxPool1D()(x)"
   ]
  },
  {
   "cell_type": "markdown",
   "metadata": {},
   "source": [
    "## This is done to achive Generalization, by doing some kind of regualization called [Droupout] \n",
    "    Which is basiclly done by droping the learned weights of a neuron in a NN to zero (dropout_ate=0.1) means that 10% of the neurons/nodes weights will be dropped to zero every iteration"
   ]
  },
  {
   "cell_type": "code",
   "execution_count": 152,
   "metadata": {
    "collapsed": true
   },
   "outputs": [],
   "source": [
    "x = Dropout(rate=0.1)(x)"
   ]
  },
  {
   "cell_type": "markdown",
   "metadata": {},
   "source": [
    "## A densely connected layer anf the output passes through a ReLU functin"
   ]
  },
  {
   "cell_type": "code",
   "execution_count": 153,
   "metadata": {
    "collapsed": true
   },
   "outputs": [],
   "source": [
    "x = Dense(units=50, activation=\"relu\")(x)"
   ]
  },
  {
   "cell_type": "code",
   "execution_count": 154,
   "metadata": {
    "collapsed": true
   },
   "outputs": [],
   "source": [
    "x = Dropout(rate=0.1)(x)"
   ]
  },
  {
   "cell_type": "markdown",
   "metadata": {},
   "source": [
    "## Output layer has an activation [Sigmoid] to reduce the probabilities to a real number between [0, 1]"
   ]
  },
  {
   "cell_type": "code",
   "execution_count": 155,
   "metadata": {
    "collapsed": true
   },
   "outputs": [],
   "source": [
    "x = Dense(units=6, activation=\"sigmoid\")(x) "
   ]
  },
  {
   "cell_type": "code",
   "execution_count": 162,
   "metadata": {
    "collapsed": true
   },
   "outputs": [],
   "source": [
    "model = Model(inputs=input_layer, outputs=x)\n",
    "model.compile(loss='binary_crossentropy',\n",
    "              optimizer= 'adam',\n",
    "              metrics= ['accuracy']) #{'toxic': 'accuracy', 'severe_toxic': 'accuracy', 'obscene': 'accuracy',\n",
    "                        #'threat': 'accuracy', 'insult': 'accuracy', 'identity_hate': 'accuracy'}) # 'accuracy'"
   ]
  },
  {
   "cell_type": "code",
   "execution_count": 163,
   "metadata": {},
   "outputs": [
    {
     "name": "stdout",
     "output_type": "stream",
     "text": [
      "Train on 76681 samples, validate on 19170 samples\n",
      "Epoch 1/10\n",
      "76681/76681 [==============================] - 358s - loss: 0.1426 - acc: 0.9634 - val_loss: 0.1447 - val_acc: 0.9621\n",
      "Epoch 2/10\n",
      "76681/76681 [==============================] - 356s - loss: 0.1422 - acc: 0.9634 - val_loss: 0.1450 - val_acc: 0.9621\n",
      "Epoch 3/10\n",
      "76681/76681 [==============================] - 362s - loss: 0.1418 - acc: 0.9634 - val_loss: 0.1450 - val_acc: 0.9621\n",
      "Epoch 4/10\n",
      "76681/76681 [==============================] - 379s - loss: 0.1408 - acc: 0.9634 - val_loss: 0.1456 - val_acc: 0.9621\n",
      "Epoch 5/10\n",
      "76681/76681 [==============================] - 376s - loss: 0.1404 - acc: 0.9634 - val_loss: 0.1463 - val_acc: 0.9621\n",
      "Epoch 6/10\n",
      "76681/76681 [==============================] - 352s - loss: 0.1405 - acc: 0.9634 - val_loss: 0.1486 - val_acc: 0.9621\n",
      "Epoch 7/10\n",
      "76681/76681 [==============================] - 349s - loss: 0.1395 - acc: 0.9634 - val_loss: 0.1463 - val_acc: 0.9621\n",
      "Epoch 8/10\n",
      "76681/76681 [==============================] - 349s - loss: 0.1387 - acc: 0.9634 - val_loss: 0.1465 - val_acc: 0.9621\n",
      "Epoch 9/10\n",
      "76681/76681 [==============================] - 370s - loss: 0.1373 - acc: 0.9634 - val_loss: 0.1480 - val_acc: 0.9621\n",
      "Epoch 10/10\n",
      "76681/76681 [==============================] - 382s - loss: 0.1356 - acc: 0.9634 - val_loss: 0.1496 - val_acc: 0.9621\n"
     ]
    },
    {
     "data": {
      "text/plain": [
       "<keras.callbacks.History at 0x7f9f38651c10>"
      ]
     },
     "execution_count": 163,
     "metadata": {},
     "output_type": "execute_result"
    }
   ],
   "source": [
    "batch_size = 32\n",
    "epochs = 10\n",
    "model.fit(x_train, y_train, batch_size=batch_size, epochs=epochs, validation_data=(x_val, y_val))"
   ]
  },
  {
   "cell_type": "code",
   "execution_count": 164,
   "metadata": {},
   "outputs": [
    {
     "name": "stdout",
     "output_type": "stream",
     "text": [
      "_________________________________________________________________\n",
      "Layer (type)                 Output Shape              Param #   \n",
      "=================================================================\n",
      "input_2 (InputLayer)         (None, 200)               0         \n",
      "_________________________________________________________________\n",
      "embedding_7 (Embedding)      (None, 200, 300)          6000000   \n",
      "_________________________________________________________________\n",
      "lstm_layer (LSTM)            (None, 200, 60)           86640     \n",
      "_________________________________________________________________\n",
      "global_max_pooling1d_6 (Glob (None, 60)                0         \n",
      "_________________________________________________________________\n",
      "dropout_11 (Dropout)         (None, 60)                0         \n",
      "_________________________________________________________________\n",
      "dense_11 (Dense)             (None, 50)                3050      \n",
      "_________________________________________________________________\n",
      "dropout_12 (Dropout)         (None, 50)                0         \n",
      "_________________________________________________________________\n",
      "dense_12 (Dense)             (None, 6)                 306       \n",
      "=================================================================\n",
      "Total params: 6,089,996\n",
      "Trainable params: 89,996\n",
      "Non-trainable params: 6,000,000\n",
      "_________________________________________________________________\n"
     ]
    }
   ],
   "source": [
    "model.summary()"
   ]
  },
  {
   "cell_type": "code",
   "execution_count": 165,
   "metadata": {
    "scrolled": true
   },
   "outputs": [
    {
     "name": "stdout",
     "output_type": "stream",
     "text": [
      "226998/226998 [==============================] - 205s   \n"
     ]
    }
   ],
   "source": [
    "y_test = model.predict([X_t], batch_size=1024, verbose=1)"
   ]
  },
  {
   "cell_type": "code",
   "execution_count": 166,
   "metadata": {
    "collapsed": true
   },
   "outputs": [],
   "source": [
    "sample_submission = pd.read_csv('data/sample_submission.csv')\n",
    "sample_submission[classes] = y_test\n",
    "sample_submission.to_csv('submissions/keras_lstm_submission.csv', index=False)"
   ]
  },
  {
   "cell_type": "markdown",
   "metadata": {},
   "source": [
    "\n",
    "# A claimed improvement based on Jermey Howrad's [kernel](https://www.kaggle.com/jhoward/improved-lstm-baseline-glove-dropout)\n"
   ]
  },
  {
   "cell_type": "code",
   "execution_count": 167,
   "metadata": {},
   "outputs": [
    {
     "data": {
      "text/plain": [
       "(-0.0058384896, 0.48782218)"
      ]
     },
     "execution_count": 167,
     "metadata": {},
     "output_type": "execute_result"
    }
   ],
   "source": [
    "all_embs = np.stack(embedding_index_glove.values())\n",
    "emb_mean,emb_std = all_embs.mean(), all_embs.std()\n",
    "emb_mean,emb_std"
   ]
  },
  {
   "cell_type": "code",
   "execution_count": 168,
   "metadata": {
    "collapsed": true
   },
   "outputs": [],
   "source": [
    "# prepare embedding matrix\n",
    "EMBEDDING_DIM = 300\n",
    "num_words = min(max_features, len(word_index) + 1)\n",
    "embedding_matrix_modified = np.random.normal(emb_mean, emb_std, (num_words, EMBEDDING_DIM))\n",
    "for word, i in word_index.items():\n",
    "    if i >= max_features:\n",
    "        continue\n",
    "    embedding_vector = embedding_index_glove.get(word)\n",
    "    if embedding_vector is not None:\n",
    "        # words not found in embedding index will be all-zeros.\n",
    "        embedding_matrix_modified[i] = embedding_vector"
   ]
  },
  {
   "cell_type": "code",
   "execution_count": 169,
   "metadata": {
    "collapsed": true
   },
   "outputs": [],
   "source": [
    "inp = Input(shape=(maxlen,))\n",
    "x = Embedding(max_features, EMBEDDING_DIM, weights=[embedding_matrix_modified])(inp)\n",
    "x = Bidirectional(LSTM(50, return_sequences=True, dropout=0.1, recurrent_dropout=0.1))(x)\n",
    "x = GlobalMaxPool1D()(x)\n",
    "x = Dense(50, activation=\"relu\")(x)\n",
    "x = Dropout(0.1)(x)\n",
    "x = Dense(6, activation=\"sigmoid\")(x)\n",
    "model_mod = Model(inputs=inp, outputs=x)\n",
    "model_mod.compile(loss='binary_crossentropy', optimizer='adam', metrics=['accuracy'])"
   ]
  },
  {
   "cell_type": "code",
   "execution_count": 173,
   "metadata": {},
   "outputs": [
    {
     "data": {
      "text/plain": [
       "0"
      ]
     },
     "execution_count": 173,
     "metadata": {},
     "output_type": "execute_result"
    }
   ],
   "source": [
    "gc.collect()"
   ]
  },
  {
   "cell_type": "code",
   "execution_count": 174,
   "metadata": {},
   "outputs": [
    {
     "name": "stdout",
     "output_type": "stream",
     "text": [
      "Train on 76681 samples, validate on 19170 samples\n",
      "Epoch 1/2\n",
      "76681/76681 [==============================] - 885s - loss: 0.1468 - acc: 0.9631 - val_loss: 0.1446 - val_acc: 0.9621\n",
      "Epoch 2/2\n",
      "76681/76681 [==============================] - 795s - loss: 0.1410 - acc: 0.9634 - val_loss: 0.1461 - val_acc: 0.9621\n"
     ]
    },
    {
     "data": {
      "text/plain": [
       "<keras.callbacks.History at 0x7f9f37352a90>"
      ]
     },
     "execution_count": 174,
     "metadata": {},
     "output_type": "execute_result"
    }
   ],
   "source": [
    "batch_size = 32\n",
    "epochs = 2\n",
    "model_mod.fit(x_train, y_train, batch_size=batch_size, epochs=epochs, validation_split=0.1, \n",
    "              validation_data=(x_val, y_val))"
   ]
  },
  {
   "cell_type": "code",
   "execution_count": 175,
   "metadata": {},
   "outputs": [
    {
     "name": "stdout",
     "output_type": "stream",
     "text": [
      "_________________________________________________________________\n",
      "Layer (type)                 Output Shape              Param #   \n",
      "=================================================================\n",
      "input_3 (InputLayer)         (None, 200)               0         \n",
      "_________________________________________________________________\n",
      "embedding_8 (Embedding)      (None, 200, 300)          6000000   \n",
      "_________________________________________________________________\n",
      "bidirectional_1 (Bidirection (None, 200, 100)          140400    \n",
      "_________________________________________________________________\n",
      "global_max_pooling1d_7 (Glob (None, 100)               0         \n",
      "_________________________________________________________________\n",
      "dense_13 (Dense)             (None, 50)                5050      \n",
      "_________________________________________________________________\n",
      "dropout_13 (Dropout)         (None, 50)                0         \n",
      "_________________________________________________________________\n",
      "dense_14 (Dense)             (None, 6)                 306       \n",
      "=================================================================\n",
      "Total params: 6,145,756\n",
      "Trainable params: 6,145,756\n",
      "Non-trainable params: 0\n",
      "_________________________________________________________________\n"
     ]
    }
   ],
   "source": [
    "model_mod.summary()"
   ]
  },
  {
   "cell_type": "code",
   "execution_count": 176,
   "metadata": {},
   "outputs": [
    {
     "name": "stdout",
     "output_type": "stream",
     "text": [
      "226998/226998 [==============================] - 183s   \n"
     ]
    }
   ],
   "source": [
    "y_test_mod = model.predict([X_t], batch_size=1024, verbose=1)"
   ]
  },
  {
   "cell_type": "code",
   "execution_count": 177,
   "metadata": {
    "collapsed": true
   },
   "outputs": [],
   "source": [
    "sample_submission = pd.read_csv('data/sample_submission.csv')\n",
    "sample_submission[classes] = y_test_mod\n",
    "sample_submission.to_csv('submissions/keras_lstm_mod_submission.csv', index=False)"
   ]
  },
  {
   "cell_type": "markdown",
   "metadata": {},
   "source": [
    "# I will Try to improve the Keras Model by doing the following:\n",
    "- Build Word embedding using the data training text data using [gensim](https://radimrehurek.com/gensim/models/word2vec.html) package"
   ]
  },
  {
   "cell_type": "code",
   "execution_count": 10,
   "metadata": {},
   "outputs": [],
   "source": [
    "from nltk.tokenize import WordPunctTokenizer\n",
    "from collections import Counter\n",
    "from string import punctuation, ascii_lowercase\n",
    "import regex as re"
   ]
  },
  {
   "cell_type": "code",
   "execution_count": 14,
   "metadata": {},
   "outputs": [
    {
     "name": "stderr",
     "output_type": "stream",
     "text": [
      "100%|██████████| 322849/322849 [00:25<00:00, 12862.69it/s]\n"
     ]
    }
   ],
   "source": [
    "# replace urls\n",
    "re_url = re.compile(r\"((http|https)\\:\\/\\/)?[a-zA-Z0-9\\.\\/\\?\\:@\\-_=#]+\\\n",
    "                    .([a-zA-Z]){2,6}([a-zA-Z0-9\\.\\&\\/\\?\\:@\\-_=#])*\",\n",
    "                    re.MULTILINE|re.UNICODE)\n",
    "# replace ips\n",
    "re_ip = re.compile(\"\\d{1,3}\\.\\d{1,3}\\.\\d{1,3}\\.\\d{1,3}\")\n",
    "\n",
    "# setup tokenizer\n",
    "tokenizer = WordPunctTokenizer()\n",
    "\n",
    "vocab = Counter()\n",
    "\n",
    "def text_to_wordlist(text, lower=False):\n",
    "    # replace URLs\n",
    "    text = re_url.sub(\"URL\", text)\n",
    "    \n",
    "    # replace IPs\n",
    "    text = re_ip.sub(\"IPADDRESS\", text)\n",
    "    \n",
    "    # Tokenize\n",
    "    text = tokenizer.tokenize(text)\n",
    "    \n",
    "    # optional: lower case\n",
    "    if lower:\n",
    "        text = [t.lower() for t in text]\n",
    "    \n",
    "    # Return a list of words\n",
    "    vocab.update(text)\n",
    "    return text\n",
    "\n",
    "def process_comments(list_sentences, lower=False):\n",
    "    comments = []\n",
    "    for text in tqdm(list_sentences):\n",
    "        txt = text_to_wordlist(text, lower=lower)\n",
    "        comments.append(txt)\n",
    "    return comments\n",
    "\n",
    "list_sentences_train = list(train[\"comment_text\"].fillna(\"unknown\").values)\n",
    "list_sentences_test = list(test[\"comment_text\"].fillna(\"unknown\").values)\n",
    "\n",
    "comments = process_comments(list_sentences_train + list_sentences_test, lower=True)"
   ]
  },
  {
   "cell_type": "markdown",
   "metadata": {},
   "source": [
    "- Let's build a CBOW Word2Vec Model by specifing `sg=0` which means to deactivate SkipGram Model"
   ]
  },
  {
   "cell_type": "code",
   "execution_count": 15,
   "metadata": {
    "collapsed": true
   },
   "outputs": [],
   "source": [
    "from gensim.models import Word2Vec\n",
    "model = Word2Vec(comments, size=100, window=5, min_count=5, workers=8, sg=0,\n",
    "                 negative=5)"
   ]
  },
  {
   "cell_type": "code",
   "execution_count": 16,
   "metadata": {},
   "outputs": [
    {
     "name": "stdout",
     "output_type": "stream",
     "text": [
      "Number of word vectors: 70910\n"
     ]
    }
   ],
   "source": [
    "word_vectors =  model.wv\n",
    "print(\"Number of word vectors: {}\".format(len(word_vectors.vocab)))"
   ]
  },
  {
   "cell_type": "code",
   "execution_count": 17,
   "metadata": {},
   "outputs": [
    {
     "data": {
      "text/plain": [
       "[('prince', 0.9886927008628845),\n",
       " ('princess', 0.9826782941818237),\n",
       " ('emperor', 0.945073127746582),\n",
       " ('mary', 0.9410067200660706),\n",
       " ('bishop', 0.9352464079856873),\n",
       " ('solomon', 0.9321256875991821),\n",
       " ('throne', 0.9311854839324951),\n",
       " ('lincoln', 0.9298420548439026),\n",
       " ('shah', 0.9296499490737915),\n",
       " ('heir', 0.9235137104988098)]"
      ]
     },
     "execution_count": 17,
     "metadata": {},
     "output_type": "execute_result"
    }
   ],
   "source": [
    "model.wv.most_similar_cosmul(positive=['woman', 'king'], negative=['man'])"
   ]
  },
  {
   "cell_type": "markdown",
   "metadata": {},
   "source": [
    "- Initialize the Word Embeddings in Keras"
   ]
  },
  {
   "cell_type": "code",
   "execution_count": 36,
   "metadata": {},
   "outputs": [
    {
     "name": "stdout",
     "output_type": "stream",
     "text": [
      "('Shape of data tensor:', (95851, 200))\n",
      "('Shape of label tensor:', (95851, 6))\n",
      "('Shape of test_data tensor:', (226998, 200))\n"
     ]
    }
   ],
   "source": [
    "max_features = len(word_vectors.vocab)\n",
    "maxlen = 200\n",
    "\n",
    "\n",
    "word_index = {t[0]: i+1 for i,t in enumerate(vocab.most_common(max_features))}\n",
    "train_sequences = [[word_index.get(t, 0) for t in comment]\n",
    "             for comment in comments[:len(list_sentences_train)]]\n",
    "test_sequences = [[word_index.get(t, 0)  for t in comment] \n",
    "                  for comment in comments[len(list_sentences_train):]]\n",
    "\n",
    "# pad\n",
    "train_data = pad_sequences(train_sequences, maxlen=maxlen, \n",
    "                     padding=\"pre\", truncating=\"post\")\n",
    "list_classes = [\"toxic\", \"severe_toxic\", \"obscene\", \"threat\", \"insult\", \"identity_hate\"]\n",
    "y = train[list_classes].values\n",
    "print('Shape of data tensor:', train_data.shape)\n",
    "print('Shape of label tensor:', y.shape)\n",
    "\n",
    "test_data = pad_sequences(test_sequences, maxlen=maxlen, padding=\"pre\",\n",
    "                          truncating=\"post\")\n",
    "print('Shape of test_data tensor:', test_data.shape)"
   ]
  },
  {
   "cell_type": "code",
   "execution_count": 37,
   "metadata": {},
   "outputs": [],
   "source": [
    "# prepare embedding matrix\n",
    "EMBEDDING_DIM =  100\n",
    "num_words = min(max_features, len(word_vectors.vocab))\n",
    "embedding_matrix = (np.random.rand(num_words, EMBEDDING_DIM) - 0.5) / 5.0 \n",
    "for word, i in word_index.items():\n",
    "    if i >= max_features:\n",
    "        continue\n",
    "    try: \n",
    "        embedding_vector = word_vectors[word]\n",
    "        if embedding_vector is not None:\n",
    "            # words not found in embedding index will be all-zeros.\n",
    "            embedding_matrix[i] = embedding_vector\n",
    "    except:\n",
    "        pass"
   ]
  },
  {
   "cell_type": "code",
   "execution_count": 41,
   "metadata": {},
   "outputs": [
    {
     "name": "stdout",
     "output_type": "stream",
     "text": [
      "Train on 86265 samples, validate on 9586 samples\n",
      "Epoch 1/10\n",
      "86265/86265 [==============================] - 343s - loss: 0.2408 - acc: 0.9062 - val_loss: 0.0633 - val_acc: 0.9791\n",
      "Epoch 2/10\n",
      "86265/86265 [==============================] - 291s - loss: 0.0650 - acc: 0.9784 - val_loss: 0.0577 - val_acc: 0.9801\n",
      "Epoch 3/10\n",
      "86265/86265 [==============================] - 284s - loss: 0.0588 - acc: 0.9794 - val_loss: 0.0550 - val_acc: 0.9799\n",
      "Epoch 4/10\n",
      "86265/86265 [==============================] - 309s - loss: 0.0553 - acc: 0.9802 - val_loss: 0.0541 - val_acc: 0.9808\n",
      "Epoch 5/10\n",
      "86265/86265 [==============================] - 326s - loss: 0.0531 - acc: 0.9807 - val_loss: 0.0526 - val_acc: 0.9811\n",
      "Epoch 6/10\n",
      "86265/86265 [==============================] - 299s - loss: 0.0520 - acc: 0.9810 - val_loss: 0.0528 - val_acc: 0.9813\n",
      "Epoch 7/10\n",
      "86265/86265 [==============================] - 304s - loss: 0.0498 - acc: 0.9816 - val_loss: 0.0509 - val_acc: 0.9816\n",
      "Epoch 8/10\n",
      "86265/86265 [==============================] - 356s - loss: 0.0485 - acc: 0.9819 - val_loss: 0.0516 - val_acc: 0.9810\n",
      "Epoch 9/10\n",
      "86265/86265 [==============================] - 341s - loss: 0.0472 - acc: 0.9824 - val_loss: 0.0525 - val_acc: 0.9804\n",
      "Epoch 10/10\n",
      "86265/86265 [==============================] - 303s - loss: 0.0465 - acc: 0.9825 - val_loss: 0.0506 - val_acc: 0.9815\n"
     ]
    }
   ],
   "source": [
    "inp = Input(shape=(maxlen,), dtype='int32')\n",
    "x = Embedding(num_words, EMBEDDING_DIM, mask_zero=False, weights=[embedding_matrix],\n",
    "              input_length=maxlen, trainable=False)(inp)\n",
    "x = SpatialDropout1D(0.2)(x)\n",
    "x = Bidirectional(LSTM(64, return_sequences=False))(x)\n",
    "x = Dropout(0.2)(x)\n",
    "x = BatchNormalization()(x)\n",
    "x = Dense(6, activation=\"sigmoid\")(x)\n",
    "model_wv = Model(inputs=inp, outputs=x)\n",
    "model_wv.compile(loss='binary_crossentropy',\n",
    "                  optimizer=optimizers.Adam(lr=0.001, clipnorm=.25, beta_1=0.7, beta_2=0.99),\n",
    "                  metrics=['accuracy'])\n",
    "model_wv_history = model_wv.fit([train_data], y, validation_split=0.1,\n",
    "                 epochs=10, batch_size=256, shuffle=True)"
   ]
  },
  {
   "cell_type": "code",
   "execution_count": 44,
   "metadata": {},
   "outputs": [
    {
     "data": {
      "image/png": "[encoded data removed]",
      "text/plain": [
       "<matplotlib.figure.Figure at 0x7ff9a6174710>"
      ]
     },
     "metadata": {},
     "output_type": "display_data"
    },
    {
     "data": {
      "image/png": "[encoded data removed]",
      "text/plain": [
       "<matplotlib.figure.Figure at 0x7ff97b546e90>"
      ]
     },
     "metadata": {},
     "output_type": "display_data"
    }
   ],
   "source": [
    "plot_loss_curve(model_wv_history)"
   ]
  },
  {
   "cell_type": "code",
   "execution_count": 53,
   "metadata": {},
   "outputs": [
    {
     "name": "stdout",
     "output_type": "stream",
     "text": [
      "_________________________________________________________________\n",
      "Layer (type)                 Output Shape              Param #   \n",
      "=================================================================\n",
      "input_6 (InputLayer)         (None, 200)               0         \n",
      "_________________________________________________________________\n",
      "embedding_6 (Embedding)      (None, 200, 100)          7091000   \n",
      "_________________________________________________________________\n",
      "spatial_dropout1d_6 (Spatial (None, 200, 100)          0         \n",
      "_________________________________________________________________\n",
      "bidirectional_6 (Bidirection (None, 128)               84480     \n",
      "_________________________________________________________________\n",
      "dropout_5 (Dropout)          (None, 128)               0         \n",
      "_________________________________________________________________\n",
      "batch_normalization_5 (Batch (None, 128)               512       \n",
      "_________________________________________________________________\n",
      "dense_5 (Dense)              (None, 6)                 774       \n",
      "=================================================================\n",
      "Total params: 7,176,766\n",
      "Trainable params: 85,510\n",
      "Non-trainable params: 7,091,256\n",
      "_________________________________________________________________\n"
     ]
    }
   ],
   "source": [
    "model_wv.summary()"
   ]
  },
  {
   "cell_type": "code",
   "execution_count": 52,
   "metadata": {},
   "outputs": [
    {
     "name": "stdout",
     "output_type": "stream",
     "text": [
      "WARNING:tensorflow:From /home/alaa/anaconda2/lib/python2.7/site-packages/keras/backend/tensorflow_backend.py:1154: calling reduce_max (from tensorflow.python.ops.math_ops) with keep_dims is deprecated and will be removed in a future version.\n",
      "Instructions for updating:\n",
      "keep_dims is deprecated, use keepdims instead\n",
      "Train on 86265 samples, validate on 9586 samples\n",
      "Epoch 1/10\n",
      "86265/86265 [==============================] - 290s - loss: 0.0456 - acc: 0.9828 - val_loss: 0.0520 - val_acc: 0.9812\n",
      "Epoch 2/10\n",
      "86265/86265 [==============================] - 279s - loss: 0.0446 - acc: 0.9831 - val_loss: 0.0512 - val_acc: 0.9817\n",
      "Epoch 3/10\n",
      "86265/86265 [==============================] - 283s - loss: 0.0445 - acc: 0.9830 - val_loss: 0.0501 - val_acc: 0.9821\n",
      "Epoch 4/10\n",
      "86265/86265 [==============================] - 286s - loss: 0.0433 - acc: 0.9836 - val_loss: 0.0503 - val_acc: 0.9819\n",
      "Epoch 5/10\n",
      "86265/86265 [==============================] - 284s - loss: 0.0429 - acc: 0.9836 - val_loss: 0.0507 - val_acc: 0.9817\n",
      "Epoch 6/10\n",
      "86265/86265 [==============================] - 309s - loss: 0.0423 - acc: 0.9837 - val_loss: 0.0509 - val_acc: 0.9818\n",
      "Epoch 7/10\n",
      "86265/86265 [==============================] - 294s - loss: 0.0420 - acc: 0.9837 - val_loss: 0.0507 - val_acc: 0.9821\n",
      "Epoch 8/10\n",
      "86265/86265 [==============================] - 313s - loss: 0.0413 - acc: 0.9840 - val_loss: 0.0523 - val_acc: 0.9807\n",
      "Epoch 9/10\n",
      "86265/86265 [==============================] - 303s - loss: 0.0408 - acc: 0.9841 - val_loss: 0.0500 - val_acc: 0.9818\n",
      "Epoch 10/10\n",
      "86265/86265 [==============================] - 348s - loss: 0.0405 - acc: 0.9843 - val_loss: 0.0505 - val_acc: 0.9819\n"
     ]
    }
   ],
   "source": [
    "# Apossible altrnative architecture\n",
    "\n",
    "inp = Input(shape=(maxlen,), dtype='int32')\n",
    "x = Embedding(num_words, EMBEDDING_DIM, mask_zero=False, weights=[embedding_matrix],\n",
    "              input_length=maxlen, trainable=False)(inp)\n",
    "x = Conv1D(128, 5, activation='relu')(x)\n",
    "x = MaxPooling1D(5)(x)\n",
    "x = Conv1D(128, 5, activation='relu')(x)\n",
    "x = GlobalMaxPooling1D()(x)\n",
    "x = Dense(6, activation=\"sigmoid\")(x)\n",
    "model_wv_cv = Model(inputs=inp, outputs=x)\n",
    "model_wv_cv.compile(loss='binary_crossentropy',\n",
    "                  optimizer=optimizers.Adam(lr=0.001, clipnorm=.25, beta_1=0.7, beta_2=0.99),\n",
    "                  metrics=['accuracy'])\n",
    "model_wv_cv_history = model_wv.fit([train_data], y, validation_split=0.1,\n",
    "                 epochs=10, batch_size=256, shuffle=True)"
   ]
  },
  {
   "cell_type": "code",
   "execution_count": 54,
   "metadata": {},
   "outputs": [
    {
     "data": {
      "image/png": "[encoded data removed]",
      "text/plain": [
       "<matplotlib.figure.Figure at 0x7ff97b447b50>"
      ]
     },
     "metadata": {},
     "output_type": "display_data"
    },
    {
     "data": {
      "image/png": "[encoded data removed]",
      "text/plain": [
       "<matplotlib.figure.Figure at 0x7ff977de6a50>"
      ]
     },
     "metadata": {},
     "output_type": "display_data"
    }
   ],
   "source": [
    "plot_loss_curve(model_wv_cv_history)"
   ]
  },
  {
   "cell_type": "code",
   "execution_count": 55,
   "metadata": {},
   "outputs": [
    {
     "name": "stdout",
     "output_type": "stream",
     "text": [
      "_________________________________________________________________\n",
      "Layer (type)                 Output Shape              Param #   \n",
      "=================================================================\n",
      "input_10 (InputLayer)        (None, 200)               0         \n",
      "_________________________________________________________________\n",
      "embedding_10 (Embedding)     (None, 200, 100)          7091000   \n",
      "_________________________________________________________________\n",
      "conv1d_4 (Conv1D)            (None, 196, 128)          64128     \n",
      "_________________________________________________________________\n",
      "max_pooling1d_2 (MaxPooling1 (None, 39, 128)           0         \n",
      "_________________________________________________________________\n",
      "conv1d_5 (Conv1D)            (None, 35, 128)           82048     \n",
      "_________________________________________________________________\n",
      "global_max_pooling1d_1 (Glob (None, 128)               0         \n",
      "_________________________________________________________________\n",
      "dense_6 (Dense)              (None, 6)                 774       \n",
      "=================================================================\n",
      "Total params: 7,237,950\n",
      "Trainable params: 146,950\n",
      "Non-trainable params: 7,091,000\n",
      "_________________________________________________________________\n"
     ]
    }
   ],
   "source": [
    "model_wv_cv.summary()"
   ]
  },
  {
   "cell_type": "code",
   "execution_count": null,
   "metadata": {
    "collapsed": true
   },
   "outputs": [],
   "source": []
  }
 ],
 "metadata": {
  "anaconda-cloud": {},
  "kernelspec": {
   "display_name": "Python 2",
   "language": "python",
   "name": "python2"
  },
  "language_info": {
   "codemirror_mode": {
    "name": "ipython",
    "version": 2
   },
   "file_extension": ".py",
   "mimetype": "text/x-python",
   "name": "python",
   "nbconvert_exporter": "python",
   "pygments_lexer": "ipython2",
   "version": "2.7.13"
  }
 },
 "nbformat": 4,
 "nbformat_minor": 1
}
